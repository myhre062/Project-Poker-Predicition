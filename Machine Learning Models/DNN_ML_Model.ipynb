{
  "cells": [
    {
      "cell_type": "markdown",
      "metadata": {
        "id": "wzLRP0o1Sicr"
      },
      "source": [
        "## Dependencies"
      ]
    },
    {
      "cell_type": "code",
      "execution_count": 1,
      "metadata": {
        "colab": {
          "base_uri": "https://localhost:8080/"
        },
        "id": "3xTz0eNcSicu",
        "outputId": "da037ef2-cba8-4bce-dc75-a0c93d828d82"
      },
      "outputs": [
        {
          "name": "stdout",
          "output_type": "stream",
          "text": [
            "Collecting ucimlrepo\n",
            "  Downloading ucimlrepo-0.0.7-py3-none-any.whl (8.0 kB)\n",
            "Requirement already satisfied: pandas>=1.0.0 in /usr/local/lib/python3.10/dist-packages (from ucimlrepo) (2.0.3)\n",
            "Requirement already satisfied: certifi>=2020.12.5 in /usr/local/lib/python3.10/dist-packages (from ucimlrepo) (2024.2.2)\n",
            "Requirement already satisfied: python-dateutil>=2.8.2 in /usr/local/lib/python3.10/dist-packages (from pandas>=1.0.0->ucimlrepo) (2.8.2)\n",
            "Requirement already satisfied: pytz>=2020.1 in /usr/local/lib/python3.10/dist-packages (from pandas>=1.0.0->ucimlrepo) (2023.4)\n",
            "Requirement already satisfied: tzdata>=2022.1 in /usr/local/lib/python3.10/dist-packages (from pandas>=1.0.0->ucimlrepo) (2024.1)\n",
            "Requirement already satisfied: numpy>=1.21.0 in /usr/local/lib/python3.10/dist-packages (from pandas>=1.0.0->ucimlrepo) (1.25.2)\n",
            "Requirement already satisfied: six>=1.5 in /usr/local/lib/python3.10/dist-packages (from python-dateutil>=2.8.2->pandas>=1.0.0->ucimlrepo) (1.16.0)\n",
            "Installing collected packages: ucimlrepo\n",
            "Successfully installed ucimlrepo-0.0.7\n",
            "Collecting keras_tuner\n",
            "  Downloading keras_tuner-1.4.7-py3-none-any.whl (129 kB)\n",
            "\u001b[2K     \u001b[90m━━━━━━━━━━━━━━━━━━━━━━━━━━━━━━━━━━━━━━━━\u001b[0m \u001b[32m129.1/129.1 kB\u001b[0m \u001b[31m1.9 MB/s\u001b[0m eta \u001b[36m0:00:00\u001b[0m\n",
            "\u001b[?25hRequirement already satisfied: keras in /usr/local/lib/python3.10/dist-packages (from keras_tuner) (2.15.0)\n",
            "Requirement already satisfied: packaging in /usr/local/lib/python3.10/dist-packages (from keras_tuner) (24.0)\n",
            "Requirement already satisfied: requests in /usr/local/lib/python3.10/dist-packages (from keras_tuner) (2.31.0)\n",
            "Collecting kt-legacy (from keras_tuner)\n",
            "  Downloading kt_legacy-1.0.5-py3-none-any.whl (9.6 kB)\n",
            "Requirement already satisfied: charset-normalizer<4,>=2 in /usr/local/lib/python3.10/dist-packages (from requests->keras_tuner) (3.3.2)\n",
            "Requirement already satisfied: idna<4,>=2.5 in /usr/local/lib/python3.10/dist-packages (from requests->keras_tuner) (3.7)\n",
            "Requirement already satisfied: urllib3<3,>=1.21.1 in /usr/local/lib/python3.10/dist-packages (from requests->keras_tuner) (2.0.7)\n",
            "Requirement already satisfied: certifi>=2017.4.17 in /usr/local/lib/python3.10/dist-packages (from requests->keras_tuner) (2024.2.2)\n",
            "Installing collected packages: kt-legacy, keras_tuner\n",
            "Successfully installed keras_tuner-1.4.7 kt-legacy-1.0.5\n"
          ]
        }
      ],
      "source": [
        "# First thing to do was install the UC Irvine Repository and keras tuner module for later use in the CoLab notebook. \n",
        "!pip install ucimlrepo\n",
        "!pip install keras_tuner"
      ]
    },
    {
      "cell_type": "code",
      "execution_count": 2,
      "metadata": {
        "id": "-bUJr-_tPRV5"
      },
      "outputs": [],
      "source": [
        "# We will be using Scikit learn and Tensorflow, so we will import those here.\n",
        "import sklearn as skl\n",
        "import tensorflow as tf"
      ]
    },
    {
      "cell_type": "code",
      "execution_count": 3,
      "metadata": {
        "colab": {
          "base_uri": "https://localhost:8080/"
        },
        "id": "BVP10P2QSicv",
        "outputId": "2605b887-df62-48bc-d1a6-bb209f0bf5be"
      },
      "outputs": [
        {
          "name": "stdout",
          "output_type": "stream",
          "text": [
            "     name     role     type demographic description units missing_values\n",
            "0      S1  Feature  Integer        None        None  None             no\n",
            "1      C1  Feature  Integer        None        None  None             no\n",
            "2      S2  Feature  Integer        None        None  None             no\n",
            "3      C2  Feature  Integer        None        None  None             no\n",
            "4      S3  Feature  Integer        None        None  None             no\n",
            "5      C3  Feature  Integer        None        None  None             no\n",
            "6      S4  Feature  Integer        None        None  None             no\n",
            "7      C4  Feature  Integer        None        None  None             no\n",
            "8      S5  Feature  Integer        None        None  None             no\n",
            "9      C5  Feature  Integer        None        None  None             no\n",
            "10  CLASS   Target  Integer        None        None  None             no\n"
          ]
        }
      ],
      "source": [
        "# Now to collect the dataset from the UC Irvine Repository.\n",
        "from ucimlrepo import fetch_ucirepo\n",
        "\n",
        "# fetch dataset\n",
        "poker_hand = fetch_ucirepo(id=158)\n",
        "\n",
        "# data (as pandas dataframes)\n",
        "X = poker_hand.data.features\n",
        "y = poker_hand.data.targets\n",
        "\n",
        "\n",
        "# variable information\n",
        "print(poker_hand.variables)\n",
        "\n",
        "\n",
        "\n",
        "\n"
      ]
    },
    {
      "cell_type": "code",
      "execution_count": 4,
      "metadata": {
        "colab": {
          "base_uri": "https://localhost:8080/"
        },
        "id": "lgDMPQy1MWOZ",
        "outputId": "1a95d25e-b54a-4f83-a10e-9dacc28c3163"
      },
      "outputs": [
        {
          "name": "stdout",
          "output_type": "stream",
          "text": [
            "{'uci_id': 158, 'name': 'Poker Hand', 'repository_url': 'https://archive.ics.uci.edu/dataset/158/poker+hand', 'data_url': 'https://archive.ics.uci.edu/static/public/158/data.csv', 'abstract': 'Purpose is to predict poker hands', 'area': 'Games', 'tasks': ['Classification'], 'characteristics': ['Multivariate'], 'num_instances': 1025010, 'num_features': 10, 'feature_types': ['Categorical', 'Integer'], 'demographics': [], 'target_col': ['CLASS'], 'index_col': None, 'has_missing_values': 'no', 'missing_values_symbol': None, 'year_of_dataset_creation': 2002, 'last_updated': 'Sat Mar 09 2024', 'dataset_doi': '10.24432/C5KW38', 'creators': ['Robert Cattral', 'Franz Oppacher'], 'intro_paper': None, 'additional_info': {'summary': 'Each record is an example of a hand consisting of five playing cards drawn from a standard deck of 52. Each card is described using two attributes (suit and rank), for a total of 10 predictive attributes. There is one Class attribute that describes the \"Poker Hand\". The order of cards is important, which is why there are 480 possible Royal Flush hands as compared to 4 (one for each suit - explained in ftp://ftp.ics.uci.edu/pub/machine-learning-databases/poker/poker-hand.names).', 'purpose': None, 'funded_by': None, 'instances_represent': None, 'recommended_data_splits': None, 'sensitive_data': None, 'preprocessing_description': None, 'variable_info': '1) S1 \"Suit of card #1\"\\r\\n    Ordinal (1-4) representing {Hearts, Spades, Diamonds, Clubs}\\r\\n\\r\\n2) C1 \"Rank of card #1\"\\r\\n    Numerical (1-13) representing (Ace, 2, 3, ... , Queen, King)\\r\\n\\r\\n3) S2 \"Suit of card #2\"\\r\\n    Ordinal (1-4) representing {Hearts, Spades, Diamonds, Clubs}\\r\\n\\r\\n4) C2 \"Rank of card #2\"\\r\\n    Numerical (1-13) representing (Ace, 2, 3, ... , Queen, King)\\r\\n\\r\\n5) S3 \"Suit of card #3\"\\r\\n    Ordinal (1-4) representing {Hearts, Spades, Diamonds, Clubs}\\r\\n\\r\\n6) C3 \"Rank of card #3\"\\r\\n    Numerical (1-13) representing (Ace, 2, 3, ... , Queen, King)\\r\\n\\r\\n7) S4 \"Suit of card #4\"\\r\\n    Ordinal (1-4) representing {Hearts, Spades, Diamonds, Clubs}\\r\\n\\r\\n8) C4 \"Rank of card #4\"\\r\\n    Numerical (1-13) representing (Ace, 2, 3, ... , Queen, King)\\r\\n\\r\\n9) S5 \"Suit of card #5\"\\r\\n    Ordinal (1-4) representing {Hearts, Spades, Diamonds, Clubs}\\r\\n\\r\\n10) C5 \"Rank of card 5\"\\r\\n    Numerical (1-13) representing (Ace, 2, 3, ... , Queen, King)\\r\\n\\r\\n11) CLASS \"Poker Hand\"\\r\\n    Ordinal (0-9)\\r\\n\\r\\n    0: Nothing in hand; not a recognized poker hand \\r\\n    1: One pair; one pair of equal ranks within five cards\\r\\n    2: Two pairs; two pairs of equal ranks within five cards\\r\\n    3: Three of a kind; three equal ranks within five cards\\r\\n    4: Straight; five cards, sequentially ranked with no gaps\\r\\n    5: Flush; five cards with the same suit\\r\\n    6: Full house; pair + different rank three of a kind\\r\\n    7: Four of a kind; four equal ranks within five cards\\r\\n    8: Straight flush; straight + flush\\r\\n    9: Royal flush; {Ace, King, Queen, Jack, Ten} + flush\\r\\n', 'citation': None}}\n"
          ]
        }
      ],
      "source": [
        "# metadata\n",
        "print(poker_hand.metadata)\n"
      ]
    },
    {
      "cell_type": "code",
      "execution_count": 5,
      "metadata": {
        "id": "M6tdXkzkSicv"
      },
      "outputs": [],
      "source": [
        "# This will prepare the data for testing and training of the nerual network.\n",
        "from sklearn.model_selection import train_test_split\n",
        "X_train, X_test, y_train, y_test = train_test_split(X, y, random_state=9)\n",
        "\n",
        "# Create scaler instance\n",
        "X_scaler = skl.preprocessing.StandardScaler()\n",
        "\n",
        "# Fit the scaler\n",
        "X_scaler.fit(X_train)\n",
        "\n",
        "# Scale the data\n",
        "X_train_scaled = X_scaler.transform(X_train)\n",
        "X_test_scaled = X_scaler.transform(X_test)\n"
      ]
    },
    {
      "cell_type": "code",
      "execution_count": 6,
      "metadata": {
        "id": "UM9HYqxpWvX2"
      },
      "outputs": [],
      "source": [
        "# Because our model will need to account for 10 classification targets, we will need to use this utility to\n",
        "# categorize the different y targets properly within the dataset, so that all 10 targets are possible for\n",
        "# the model to train and predict on.\n",
        "from tensorflow.keras.utils import to_categorical\n",
        "number_classes = 10\n",
        "y_train = to_categorical(y_train, number_classes)\n",
        "y_test = to_categorical(y_test, number_classes)"
      ]
    },
    {
      "cell_type": "code",
      "execution_count": 7,
      "metadata": {
        "colab": {
          "base_uri": "https://localhost:8080/"
        },
        "id": "zstTj5wDXG3K",
        "outputId": "38909ef0-f4bc-4d64-df8d-3e493e6561ab"
      },
      "outputs": [
        {
          "data": {
            "text/plain": [
              "array([0., 0., 1., 0., 0., 0., 0., 0., 0., 0.], dtype=float32)"
            ]
          },
          "execution_count": 7,
          "metadata": {},
          "output_type": "execute_result"
        }
      ],
      "source": [
        "# A quick test to ensure the categorization worked.\n",
        "y_train[1]"
      ]
    },
    {
      "cell_type": "code",
      "execution_count": 8,
      "metadata": {
        "id": "5S7SATvCMOWo"
      },
      "outputs": [],
      "source": [
        "# We would like to use the tuner to help us determine the best DNN model to create. So, we\n",
        "# take the following steps to get the tuner operational:\n",
        "# Create a method that creates a new Sequential model with hyperparameter options\n",
        "def create_model(hp):\n",
        "  nn_model = tf.keras.models.Sequential()\n",
        "    # Allow kerastuner to decide which activation function to use in hidden layers\n",
        "  activation = hp.Choice('activation', ['relu', 'tanh'])\n",
        "    # Allow kerastuner to decide number of neurons in first layer\n",
        "  nn_model.add(tf.keras.layers.Dense(units=hp.Int('first_units',\n",
        "      min_value=1 , max_value=50, step=10), activation=activation, input_dim=10))\n",
        "    # Allow kerastuner to decide number of hidden layers and neurons in hidden layers\n",
        "  for i in range(hp.Int('num_layers', 1, 5)):\n",
        "    nn_model.add(tf.keras.layers.Dense(units=hp.Int('units_' + str(i),\n",
        "    min_value=1,\n",
        "    max_value=50,\n",
        "    step=10),\n",
        "    activation=activation))\n",
        "\n",
        "  nn_model.add(tf.keras.layers.Dense(units=10, activation='softmax'))\n",
        "    # Compile the model\n",
        "  nn_model.compile(loss=\"categorical_crossentropy\", optimizer=\"adam\", metrics=[\"accuracy\"])\n",
        "\n",
        "  return nn_model"
      ]
    },
    {
      "cell_type": "code",
      "execution_count": 9,
      "metadata": {
        "id": "_6JB_1oDQqf8"
      },
      "outputs": [],
      "source": [
        "# Import the kerastuner library\n",
        "import keras_tuner as kt\n",
        "# Create a `Hyperband()` tuner instance\n",
        "tuner = kt.Hyperband(\n",
        "    create_model,\n",
        "    objective=\"val_accuracy\",\n",
        "    max_epochs=10,\n",
        "    hyperband_iterations=1\n",
        ")"
      ]
    },
    {
      "cell_type": "code",
      "execution_count": 10,
      "metadata": {
        "colab": {
          "base_uri": "https://localhost:8080/"
        },
        "id": "q7VVhzGMQ-L-",
        "outputId": "ec9163f9-64d3-487a-c296-a87beef0b4bf"
      },
      "outputs": [
        {
          "name": "stdout",
          "output_type": "stream",
          "text": [
            "Trial 30 Complete [00h 09m 04s]\n",
            "val_accuracy: 0.5233577489852905\n",
            "\n",
            "Best val_accuracy So Far: 0.9980565905570984\n",
            "Total elapsed time: 02h 08m 43s\n"
          ]
        }
      ],
      "source": [
        "# Run the kerastuner search for best hyperparameters\n",
        "tuner.search(X_train_scaled, y_train, epochs=10, validation_data=(X_test_scaled, y_test))"
      ]
    },
    {
      "cell_type": "code",
      "execution_count": 11,
      "metadata": {
        "colab": {
          "base_uri": "https://localhost:8080/"
        },
        "id": "D1UACpq7RJNw",
        "outputId": "82ae3048-543e-4658-9b62-dce29ec9aa6e"
      },
      "outputs": [
        {
          "name": "stdout",
          "output_type": "stream",
          "text": [
            "{'activation': 'relu', 'first_units': 21, 'num_layers': 2, 'units_0': 41, 'units_1': 21, 'units_2': 11, 'units_3': 1, 'units_4': 21, 'tuner/epochs': 10, 'tuner/initial_epoch': 4, 'tuner/bracket': 2, 'tuner/round': 2, 'tuner/trial_id': '0013'}\n",
            "{'activation': 'relu', 'first_units': 11, 'num_layers': 5, 'units_0': 41, 'units_1': 21, 'units_2': 1, 'units_3': 31, 'units_4': 21, 'tuner/epochs': 10, 'tuner/initial_epoch': 4, 'tuner/bracket': 2, 'tuner/round': 2, 'tuner/trial_id': '0012'}\n",
            "{'activation': 'relu', 'first_units': 21, 'num_layers': 2, 'units_0': 41, 'units_1': 21, 'units_2': 11, 'units_3': 1, 'units_4': 21, 'tuner/epochs': 4, 'tuner/initial_epoch': 2, 'tuner/bracket': 2, 'tuner/round': 1, 'tuner/trial_id': '0003'}\n"
          ]
        }
      ],
      "source": [
        "# Get top 3 model hyperparameters and print the values\n",
        "best_hyper = tuner.get_best_hyperparameters(3)\n",
        "for param in best_hyper:\n",
        "  print(param.values)"
      ]
    },
    {
      "cell_type": "code",
      "execution_count": 12,
      "metadata": {
        "colab": {
          "base_uri": "https://localhost:8080/"
        },
        "id": "9Gzv40GkRL69",
        "outputId": "828029a0-e496-4194-e520-463cce59350f"
      },
      "outputs": [
        {
          "name": "stdout",
          "output_type": "stream",
          "text": [
            "8008/8008 - 10s - loss: 0.0132 - accuracy: 0.9981 - 10s/epoch - 1ms/step\n",
            "Loss: 0.013169246725738049, Accuracy: 0.9980565905570984\n",
            "8008/8008 - 10s - loss: 0.0261 - accuracy: 0.9937 - 10s/epoch - 1ms/step\n",
            "Loss: 0.026071233674883842, Accuracy: 0.9937132596969604\n",
            "8008/8008 - 9s - loss: 0.0686 - accuracy: 0.9778 - 9s/epoch - 1ms/step\n",
            "Loss: 0.06858868896961212, Accuracy: 0.9777914881706238\n"
          ]
        }
      ],
      "source": [
        "# Evaluate the top 3 models against the test dataset\n",
        "top_model = tuner.get_best_models(3)\n",
        "for model in top_model:\n",
        "  model_loss, model_accuracy = model.evaluate(X_test_scaled, y_test, verbose=2)\n",
        "  print(f\"Loss: {model_loss}, Accuracy: {model_accuracy}\")"
      ]
    },
    {
      "cell_type": "code",
      "execution_count": null,
      "metadata": {
        "id": "2N9I_n8GWyUr"
      },
      "outputs": [],
      "source": []
    }
  ],
  "metadata": {
    "anaconda-cloud": {},
    "celltoolbar": "Slideshow",
    "colab": {
      "provenance": []
    },
    "kernelspec": {
      "display_name": "Python 3",
      "language": "python",
      "name": "python3"
    },
    "language_info": {
      "codemirror_mode": {
        "name": "ipython",
        "version": 3
      },
      "file_extension": ".py",
      "mimetype": "text/x-python",
      "name": "python",
      "nbconvert_exporter": "python",
      "pygments_lexer": "ipython3",
      "version": "3.-1.-1"
    },
    "varInspector": {
      "cols": {
        "lenName": 16,
        "lenType": 16,
        "lenVar": 40
      },
      "kernels_config": {
        "python": {
          "delete_cmd_postfix": "",
          "delete_cmd_prefix": "del ",
          "library": "var_list.py",
          "varRefreshCmd": "print(var_dic_list())"
        },
        "r": {
          "delete_cmd_postfix": ") ",
          "delete_cmd_prefix": "rm(",
          "library": "var_list.r",
          "varRefreshCmd": "cat(var_dic_list()) "
        }
      },
      "types_to_exclude": [
        "module",
        "function",
        "builtin_function_or_method",
        "instance",
        "_Feature"
      ],
      "window_display": false
    },
    "vscode": {
      "interpreter": {
        "hash": "31f2aee4e71d21fbe5cf8b01ff0e069b9275f58929596ceb00d14d90e3e16cd6"
      }
    }
  },
  "nbformat": 4,
  "nbformat_minor": 0
}
