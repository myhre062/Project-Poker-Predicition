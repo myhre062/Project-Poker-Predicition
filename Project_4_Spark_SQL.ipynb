{
  "cells": [
    {
      "cell_type": "code",
      "execution_count": null,
      "metadata": {
        "colab": {
          "base_uri": "https://localhost:8080/"
        },
        "id": "eGA5-htN6oEN",
        "outputId": "e8f9d1af-337f-4766-89c2-7782c116dd43"
      },
      "outputs": [
        {
          "output_type": "stream",
          "name": "stdout",
          "text": [
            "\r0% [Working]\r            \rHit:1 http://archive.ubuntu.com/ubuntu jammy InRelease\n",
            "\r0% [Waiting for headers] [Connecting to security.ubuntu.com (185.125.190.39)] [Connected to cloud.r-\r                                                                                                    \rGet:2 http://archive.ubuntu.com/ubuntu jammy-updates InRelease [128 kB]\n",
            "\r                                                                                                    \rGet:3 https://cloud.r-project.org/bin/linux/ubuntu jammy-cran40/ InRelease [3,626 B]\n",
            "\r                                                                                                    \rHit:4 https://developer.download.nvidia.com/compute/cuda/repos/ubuntu2204/x86_64  InRelease\n",
            "Get:5 http://security.ubuntu.com/ubuntu jammy-security InRelease [129 kB]\n",
            "Hit:6 http://archive.ubuntu.com/ubuntu jammy-backports InRelease\n",
            "Hit:7 https://ppa.launchpadcontent.net/c2d4u.team/c2d4u4.0+/ubuntu jammy InRelease\n",
            "Hit:8 https://ppa.launchpadcontent.net/deadsnakes/ppa/ubuntu jammy InRelease\n",
            "Hit:9 https://ppa.launchpadcontent.net/graphics-drivers/ppa/ubuntu jammy InRelease\n",
            "Hit:10 https://ppa.launchpadcontent.net/ubuntugis/ppa/ubuntu jammy InRelease\n",
            "Get:11 http://archive.ubuntu.com/ubuntu jammy-updates/main amd64 Packages [2,129 kB]\n",
            "Get:12 http://archive.ubuntu.com/ubuntu jammy-updates/universe amd64 Packages [1,377 kB]\n",
            "Get:13 http://security.ubuntu.com/ubuntu jammy-security/universe amd64 Packages [1,085 kB]\n",
            "Fetched 4,852 kB in 6s (873 kB/s)\n",
            "Reading package lists... Done\n"
          ]
        }
      ],
      "source": [
        "import os\n",
        "# Find the latest version of spark 3.x  from http://www.apache.org/dist/spark/ and enter as the spark version\n",
        "# For example:\n",
        "# spark_version = 'spark-3.5.1'\n",
        "spark_version = 'spark-3.5.1'\n",
        "os.environ['SPARK_VERSION']=spark_version\n",
        "\n",
        "# Install Spark and Java\n",
        "!apt-get update\n",
        "!apt-get install openjdk-11-jdk-headless -qq > /dev/null\n",
        "!wget -q http://www.apache.org/dist/spark/$SPARK_VERSION/$SPARK_VERSION-bin-hadoop3.tgz\n",
        "!tar xf $SPARK_VERSION-bin-hadoop3.tgz\n",
        "!pip install -q findspark\n",
        "\n",
        "# Set Environment Variables\n",
        "os.environ[\"JAVA_HOME\"] = \"/usr/lib/jvm/java-11-openjdk-amd64\"\n",
        "os.environ[\"SPARK_HOME\"] = f\"/content/{spark_version}-bin-hadoop3\"\n",
        "\n",
        "# Start a SparkSession\n",
        "import findspark\n",
        "findspark.init()"
      ]
    },
    {
      "cell_type": "code",
      "execution_count": null,
      "metadata": {
        "id": "pIUo9MYO6vlj"
      },
      "outputs": [],
      "source": [
        "# Import packages\n",
        "from pyspark.sql import SparkSession\n",
        "import time\n",
        "\n",
        "# Create a SparkSession\n",
        "spark = SparkSession.builder\\\n",
        "    .appName(\"SparkSQL\")\\\n",
        "    .config(\"spark.sql.debug.maxToStringFields\", 2000)\\\n",
        "    .config(\"spark.driver.memory\", \"2g\")\\\n",
        "    .getOrCreate()"
      ]
    },
    {
      "cell_type": "code",
      "execution_count": null,
      "metadata": {
        "colab": {
          "base_uri": "https://localhost:8080/"
        },
        "id": "Ej6Sabcd-1At",
        "outputId": "946c5f2e-39bf-4696-8486-87771d304580"
      },
      "outputs": [
        {
          "output_type": "stream",
          "name": "stdout",
          "text": [
            "+---+---+---+---+---+---+---+---+---+---+-----+\n",
            "| S1| C1| S2| C2| S3| C3| S4| C4| S5| C5|CLASS|\n",
            "+---+---+---+---+---+---+---+---+---+---+-----+\n",
            "|  1| 10|  1| 11|  1| 13|  1| 12|  1|  1|    9|\n",
            "|  2| 11|  2| 13|  2| 10|  2| 12|  2|  1|    9|\n",
            "|  3| 12|  3| 11|  3| 13|  3| 10|  3|  1|    9|\n",
            "|  4| 10|  4| 11|  4|  1|  4| 13|  4| 12|    9|\n",
            "|  4|  1|  4| 13|  4| 12|  4| 11|  4| 10|    9|\n",
            "|  1|  2|  1|  4|  1|  5|  1|  3|  1|  6|    8|\n",
            "|  1|  9|  1| 12|  1| 10|  1| 11|  1| 13|    8|\n",
            "|  2|  1|  2|  2|  2|  3|  2|  4|  2|  5|    8|\n",
            "|  3|  5|  3|  6|  3|  9|  3|  7|  3|  8|    8|\n",
            "|  4|  1|  4|  4|  4|  2|  4|  3|  4|  5|    8|\n",
            "|  1|  1|  2|  1|  3|  9|  1|  5|  2|  3|    1|\n",
            "|  2|  6|  2|  1|  4| 13|  2|  4|  4|  9|    0|\n",
            "|  1| 10|  4|  6|  1|  2|  1|  1|  3|  8|    0|\n",
            "|  2| 13|  2|  1|  4|  4|  1|  5|  2| 11|    0|\n",
            "|  3|  8|  4| 12|  3|  9|  4|  2|  3|  2|    1|\n",
            "|  1|  3|  4|  7|  1|  5|  2|  4|  4| 13|    0|\n",
            "|  1|  4|  1|  1|  1|  3|  3|  5|  3|  2|    4|\n",
            "|  3|  8|  3| 12|  2|  7|  2|  6|  1|  2|    0|\n",
            "|  4|  8|  1| 11|  4|  6|  3|  2|  4| 12|    0|\n",
            "|  3|  7|  2|  7|  4| 11|  1| 12|  3|  1|    1|\n",
            "+---+---+---+---+---+---+---+---+---+---+-----+\n",
            "only showing top 20 rows\n",
            "\n"
          ]
        }
      ],
      "source": [
        "# Read in data from the UCI Repo\n",
        "from pyspark import SparkFiles\n",
        "hands_url = \"https://archive.ics.uci.edu/static/public/158/data.csv\"\n",
        "spark.sparkContext.addFile(hands_url)\n",
        "hands_df = spark.read.csv(SparkFiles.get(\"data.csv\"), sep=\",\", header=True)\n",
        "\n",
        "# Show the poker hand data.\n",
        "hands_df.show()"
      ]
    },
    {
      "cell_type": "code",
      "execution_count": null,
      "metadata": {
        "id": "1LV1-sZ2QpZB"
      },
      "outputs": [],
      "source": [
        "# Create a temporary view for our dataframe\n",
        "hands_df.createOrReplaceTempView('hands')\n"
      ]
    },
    {
      "cell_type": "code",
      "source": [
        "start_time = time.time()\n",
        "\n",
        "spark.sql(\"\"\"\n",
        "\n",
        "SELECT COUNT(Class) AS Occurrences\n",
        "FROM hands\n",
        "\n",
        "\"\"\").show()\n",
        "\n",
        "print(\"--- %s seconds ---\" % (time.time() - start_time))"
      ],
      "metadata": {
        "colab": {
          "base_uri": "https://localhost:8080/"
        },
        "id": "7WH8NJZw034O",
        "outputId": "64e9fa77-f1da-45e4-e8e0-1d917e9db9ac"
      },
      "execution_count": null,
      "outputs": [
        {
          "output_type": "stream",
          "name": "stdout",
          "text": [
            "+-----------+\n",
            "|Occurrences|\n",
            "+-----------+\n",
            "|    1025010|\n",
            "+-----------+\n",
            "\n",
            "--- 2.8410558700561523 seconds ---\n"
          ]
        }
      ]
    },
    {
      "cell_type": "code",
      "execution_count": null,
      "metadata": {
        "colab": {
          "base_uri": "https://localhost:8080/"
        },
        "id": "L_hKqNbW_EnA",
        "outputId": "981c1eab-8ebc-4438-c48c-80b870099c5b"
      },
      "outputs": [
        {
          "output_type": "stream",
          "name": "stdout",
          "text": [
            "+-----+-----------+\n",
            "|Class|Occurrences|\n",
            "+-----+-----------+\n",
            "|    0|     513702|\n",
            "|    1|     433097|\n",
            "|    2|      48828|\n",
            "|    3|      21634|\n",
            "|    4|       3978|\n",
            "|    5|       2050|\n",
            "|    6|       1460|\n",
            "|    7|        236|\n",
            "|    8|         17|\n",
            "|    9|          8|\n",
            "+-----+-----------+\n",
            "\n",
            "--- 3.259308099746704 seconds ---\n"
          ]
        }
      ],
      "source": [
        "# Data exploration through queries...\n",
        "\n",
        "\n",
        "start_time = time.time()\n",
        "\n",
        "spark.sql(\"\"\"\n",
        "\n",
        "SELECT Class, COUNT(Class) AS Occurrences\n",
        "FROM hands\n",
        "GROUP BY Class\n",
        "ORDER BY Occurrences DESC\n",
        "\"\"\").show()\n",
        "\n",
        "print(\"--- %s seconds ---\" % (time.time() - start_time))"
      ]
    },
    {
      "cell_type": "code",
      "execution_count": null,
      "metadata": {
        "colab": {
          "base_uri": "https://localhost:8080/"
        },
        "id": "vujvlsjxSj7N",
        "outputId": "b37eb790-be6b-434e-fd7b-a8574b5538b0"
      },
      "outputs": [
        {
          "output_type": "stream",
          "name": "stdout",
          "text": [
            "+-----+--------------------+\n",
            "|Class|         Occurrences|\n",
            "+-----+--------------------+\n",
            "|    0|  50.116779348494155|\n",
            "|    1|  42.252953629720686|\n",
            "|    2|   4.763660842333246|\n",
            "|    3|  2.1106135549897074|\n",
            "|    4| 0.38809377469488104|\n",
            "|    5|  0.1999980487995239|\n",
            "|    6| 0.14243763475478288|\n",
            "|    7| 0.02302416561789641|\n",
            "|    8|0.001658520404678...|\n",
            "|    9|7.804801904371665E-4|\n",
            "+-----+--------------------+\n",
            "\n",
            "--- 3.107762575149536 seconds ---\n"
          ]
        }
      ],
      "source": [
        "# Here we have added the hint to Broadcast the lookup table.\n",
        "start_time = time.time()\n",
        "\n",
        "spark.sql(\"\"\"\n",
        "SELECT Class, ((COUNT(Class) / 1025010)*100) AS Occurrences\n",
        "FROM hands\n",
        "GROUP BY Class\n",
        "ORDER BY Occurrences DESC\n",
        "\"\"\").show()\n",
        "\n",
        "\n",
        "print(\"--- %s seconds ---\" % (time.time() - start_time))"
      ]
    },
    {
      "cell_type": "code",
      "execution_count": null,
      "metadata": {
        "id": "3XLLlG2kx4s3"
      },
      "outputs": [],
      "source": []
    }
  ],
  "metadata": {
    "colab": {
      "provenance": []
    },
    "kernelspec": {
      "display_name": "Python 3 (ipykernel)",
      "language": "python",
      "name": "python3"
    },
    "language_info": {
      "codemirror_mode": {
        "name": "ipython",
        "version": 3
      },
      "file_extension": ".py",
      "mimetype": "text/x-python",
      "name": "python",
      "nbconvert_exporter": "python",
      "pygments_lexer": "ipython3",
      "version": "3.10.4"
    }
  },
  "nbformat": 4,
  "nbformat_minor": 0
}